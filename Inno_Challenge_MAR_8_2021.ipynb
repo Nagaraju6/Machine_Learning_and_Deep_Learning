{
  "nbformat": 4,
  "nbformat_minor": 0,
  "metadata": {
    "colab": {
      "name": "Inno_Challenge_MAR_8_2021.ipynb",
      "provenance": [],
      "collapsed_sections": [],
      "authorship_tag": "ABX9TyOF7tR8u7SIJkEB+DmOZwsG",
      "include_colab_link": true
    },
    "kernelspec": {
      "name": "python3",
      "display_name": "Python 3"
    }
  },
  "cells": [
    {
      "cell_type": "markdown",
      "metadata": {
        "id": "view-in-github",
        "colab_type": "text"
      },
      "source": [
        "<a href=\"https://colab.research.google.com/github/Nagaraju6/Machine_Learning_and_Deep_Learning/blob/master/Inno_Challenge_MAR_8_2021.ipynb\" target=\"_parent\"><img src=\"https://colab.research.google.com/assets/colab-badge.svg\" alt=\"Open In Colab\"/></a>"
      ]
    },
    {
      "cell_type": "markdown",
      "metadata": {
        "id": "vhF4vE9-UV1j"
      },
      "source": [
        "**1. READING AND LOADING DATA FROM FILE**"
      ]
    },
    {
      "cell_type": "code",
      "metadata": {
        "id": "pk3SAqEaKipE"
      },
      "source": [
        "import pandas as pd\r\n",
        "import numpy as np\r\n",
        "import altair as alt\r\n",
        "import matplotlib.pyplot as plt\r\n",
        "import seaborn as sns"
      ],
      "execution_count": 9,
      "outputs": []
    },
    {
      "cell_type": "code",
      "metadata": {
        "colab": {
          "base_uri": "https://localhost:8080/"
        },
        "id": "ymxD6RzQPBCw",
        "outputId": "afc34246-6cee-4db4-e879-338658922976"
      },
      "source": [
        "from google.colab import drive\r\n",
        "drive.mount('/content/drive')"
      ],
      "execution_count": null,
      "outputs": [
        {
          "output_type": "stream",
          "text": [
            "Mounted at /content/drive\n"
          ],
          "name": "stdout"
        }
      ]
    },
    {
      "cell_type": "code",
      "metadata": {
        "colab": {
          "base_uri": "https://localhost:8080/",
          "height": 202
        },
        "id": "burfCtVuLnHL",
        "outputId": "36a00c5f-70d2-462c-cf5a-20b72d536401"
      },
      "source": [
        "train_feed=pd.read_csv(\"train.csv\")\r\n",
        "train_feed.head()"
      ],
      "execution_count": 10,
      "outputs": [
        {
          "output_type": "execute_result",
          "data": {
            "text/html": [
              "<div>\n",
              "<style scoped>\n",
              "    .dataframe tbody tr th:only-of-type {\n",
              "        vertical-align: middle;\n",
              "    }\n",
              "\n",
              "    .dataframe tbody tr th {\n",
              "        vertical-align: top;\n",
              "    }\n",
              "\n",
              "    .dataframe thead th {\n",
              "        text-align: right;\n",
              "    }\n",
              "</style>\n",
              "<table border=\"1\" class=\"dataframe\">\n",
              "  <thead>\n",
              "    <tr style=\"text-align: right;\">\n",
              "      <th></th>\n",
              "      <th>col1</th>\n",
              "      <th>col2</th>\n",
              "      <th>output</th>\n",
              "    </tr>\n",
              "  </thead>\n",
              "  <tbody>\n",
              "    <tr>\n",
              "      <th>0</th>\n",
              "      <td>-38.366669</td>\n",
              "      <td>113.000000</td>\n",
              "      <td>1</td>\n",
              "    </tr>\n",
              "    <tr>\n",
              "      <th>1</th>\n",
              "      <td>-39.818572</td>\n",
              "      <td>123.943369</td>\n",
              "      <td>1</td>\n",
              "    </tr>\n",
              "    <tr>\n",
              "      <th>2</th>\n",
              "      <td>-55.638240</td>\n",
              "      <td>114.551862</td>\n",
              "      <td>1</td>\n",
              "    </tr>\n",
              "    <tr>\n",
              "      <th>3</th>\n",
              "      <td>-36.378005</td>\n",
              "      <td>95.616515</td>\n",
              "      <td>1</td>\n",
              "    </tr>\n",
              "    <tr>\n",
              "      <th>4</th>\n",
              "      <td>-39.366669</td>\n",
              "      <td>112.000000</td>\n",
              "      <td>1</td>\n",
              "    </tr>\n",
              "  </tbody>\n",
              "</table>\n",
              "</div>"
            ],
            "text/plain": [
              "        col1        col2  output\n",
              "0 -38.366669  113.000000       1\n",
              "1 -39.818572  123.943369       1\n",
              "2 -55.638240  114.551862       1\n",
              "3 -36.378005   95.616515       1\n",
              "4 -39.366669  112.000000       1"
            ]
          },
          "metadata": {
            "tags": []
          },
          "execution_count": 10
        }
      ]
    },
    {
      "cell_type": "code",
      "metadata": {
        "id": "iQtocTAMQIJQ"
      },
      "source": [
        "train_feed.columns\r\n",
        "train_feed=train_feed.loc[:,['col1','col2']]"
      ],
      "execution_count": 12,
      "outputs": []
    },
    {
      "cell_type": "markdown",
      "metadata": {
        "id": "cVO0sErtUGg3"
      },
      "source": [
        "**2. ANALYSING DATA BELOW** "
      ]
    },
    {
      "cell_type": "code",
      "metadata": {
        "colab": {
          "base_uri": "https://localhost:8080/",
          "height": 204
        },
        "id": "jZqiMdzfQmhK",
        "outputId": "ad8afde0-a7f4-402e-b696-8db65d4ce8d9"
      },
      "source": [
        "train_feed.head()\r\n"
      ],
      "execution_count": null,
      "outputs": [
        {
          "output_type": "execute_result",
          "data": {
            "text/html": [
              "<div>\n",
              "<style scoped>\n",
              "    .dataframe tbody tr th:only-of-type {\n",
              "        vertical-align: middle;\n",
              "    }\n",
              "\n",
              "    .dataframe tbody tr th {\n",
              "        vertical-align: top;\n",
              "    }\n",
              "\n",
              "    .dataframe thead th {\n",
              "        text-align: right;\n",
              "    }\n",
              "</style>\n",
              "<table border=\"1\" class=\"dataframe\">\n",
              "  <thead>\n",
              "    <tr style=\"text-align: right;\">\n",
              "      <th></th>\n",
              "      <th>col1</th>\n",
              "      <th>col2</th>\n",
              "    </tr>\n",
              "  </thead>\n",
              "  <tbody>\n",
              "    <tr>\n",
              "      <th>0</th>\n",
              "      <td>-38.366669</td>\n",
              "      <td>113.000000</td>\n",
              "    </tr>\n",
              "    <tr>\n",
              "      <th>1</th>\n",
              "      <td>-39.818572</td>\n",
              "      <td>123.943369</td>\n",
              "    </tr>\n",
              "    <tr>\n",
              "      <th>2</th>\n",
              "      <td>-55.638240</td>\n",
              "      <td>114.551862</td>\n",
              "    </tr>\n",
              "    <tr>\n",
              "      <th>3</th>\n",
              "      <td>-36.378005</td>\n",
              "      <td>95.616515</td>\n",
              "    </tr>\n",
              "    <tr>\n",
              "      <th>4</th>\n",
              "      <td>-39.366669</td>\n",
              "      <td>112.000000</td>\n",
              "    </tr>\n",
              "  </tbody>\n",
              "</table>\n",
              "</div>"
            ],
            "text/plain": [
              "        col1        col2\n",
              "0 -38.366669  113.000000\n",
              "1 -39.818572  123.943369\n",
              "2 -55.638240  114.551862\n",
              "3 -36.378005   95.616515\n",
              "4 -39.366669  112.000000"
            ]
          },
          "metadata": {
            "tags": []
          },
          "execution_count": 18
        }
      ]
    },
    {
      "cell_type": "code",
      "metadata": {
        "colab": {
          "base_uri": "https://localhost:8080/"
        },
        "id": "RDEWDUHiRCNu",
        "outputId": "fbf444a8-8ad2-403e-d954-50ae33600769"
      },
      "source": [
        "train_feed.shape\r\n"
      ],
      "execution_count": 13,
      "outputs": [
        {
          "output_type": "execute_result",
          "data": {
            "text/plain": [
              "(1278, 2)"
            ]
          },
          "metadata": {
            "tags": []
          },
          "execution_count": 13
        }
      ]
    },
    {
      "cell_type": "code",
      "metadata": {
        "colab": {
          "base_uri": "https://localhost:8080/"
        },
        "id": "VIpL5V2nRXXn",
        "outputId": "ce8174e9-bcc9-4b61-c2d2-08bc45f48500"
      },
      "source": [
        "train_feed['col1'].value_counts()"
      ],
      "execution_count": 14,
      "outputs": [
        {
          "output_type": "execute_result",
          "data": {
            "text/plain": [
              " 117.633331    8\n",
              "-120.366669    7\n",
              " 113.633331    6\n",
              "-33.366669     6\n",
              "-34.366669     6\n",
              "              ..\n",
              "-26.012431     1\n",
              " 9.465297      1\n",
              "-30.549717     1\n",
              "-40.334490     1\n",
              " 53.481772     1\n",
              "Name: col1, Length: 1124, dtype: int64"
            ]
          },
          "metadata": {
            "tags": []
          },
          "execution_count": 14
        }
      ]
    },
    {
      "cell_type": "code",
      "metadata": {
        "colab": {
          "base_uri": "https://localhost:8080/",
          "height": 296
        },
        "id": "Yj2KJxUjRunN",
        "outputId": "a2ee45eb-afc7-4ebe-ac2c-cca965f23d67"
      },
      "source": [
        "sns.countplot(x='col1', data=train_feed)"
      ],
      "execution_count": 20,
      "outputs": [
        {
          "output_type": "execute_result",
          "data": {
            "text/plain": [
              "<matplotlib.axes._subplots.AxesSubplot at 0x7ff535368490>"
            ]
          },
          "metadata": {
            "tags": []
          },
          "execution_count": 20
        },
        {
          "output_type": "display_data",
          "data": {
            "image/png": "[encoded data removed]",
            "text/plain": [
              "<Figure size 432x288 with 1 Axes>"
            ]
          },
          "metadata": {
            "tags": [],
            "needs_background": "light"
          }
        }
      ]
    },
    {
      "cell_type": "code",
      "metadata": {
        "colab": {
          "base_uri": "https://localhost:8080/",
          "height": 296
        },
        "id": "E3VEl0hXba12",
        "outputId": "6cad4726-e98f-452f-c104-706c27749c7e"
      },
      "source": [
        "fig_dims = (6, 4)\r\n",
        "fig, ax = plt.subplots(figsize=fig_dims)\r\n",
        "sns.barplot(x = \"col1\", ax=ax, data=train_feed)"
      ],
      "execution_count": 21,
      "outputs": [
        {
          "output_type": "execute_result",
          "data": {
            "text/plain": [
              "<matplotlib.axes._subplots.AxesSubplot at 0x7ff5369ff510>"
            ]
          },
          "metadata": {
            "tags": []
          },
          "execution_count": 21
        },
        {
          "output_type": "display_data",
          "data": {
            "image/png": "[encoded data removed]",
            "text/plain": [
              "<Figure size 432x288 with 1 Axes>"
            ]
          },
          "metadata": {
            "tags": [],
            "needs_background": "light"
          }
        }
      ]
    },
    {
      "cell_type": "code",
      "metadata": {
        "colab": {
          "base_uri": "https://localhost:8080/"
        },
        "id": "SVZXqTsFSQ0x",
        "outputId": "735dc756-4ec2-4db5-879f-40be1cdda93e"
      },
      "source": [
        "train_feed['col2'].value_counts()"
      ],
      "execution_count": null,
      "outputs": [
        {
          "output_type": "execute_result",
          "data": {
            "text/plain": [
              " 122.000000    13\n",
              "-94.000000     11\n",
              "-96.000000      8\n",
              " 33.000000      6\n",
              " 3.000000       6\n",
              "               ..\n",
              "-74.720797      1\n",
              " 31.469712      1\n",
              " 106.164214     1\n",
              "-76.043854      1\n",
              "-92.916308      1\n",
              "Name: col2, Length: 1109, dtype: int64"
            ]
          },
          "metadata": {
            "tags": []
          },
          "execution_count": 24
        }
      ]
    },
    {
      "cell_type": "code",
      "metadata": {
        "colab": {
          "base_uri": "https://localhost:8080/",
          "height": 296
        },
        "id": "f1S-v1mkSJN-",
        "outputId": "4d1ca33b-fe55-4f54-89bd-f1c10425cc3e"
      },
      "source": [
        "sns.countplot(x='col2',data=train_feed)"
      ],
      "execution_count": null,
      "outputs": [
        {
          "output_type": "execute_result",
          "data": {
            "text/plain": [
              "<matplotlib.axes._subplots.AxesSubplot at 0x7fc01c379150>"
            ]
          },
          "metadata": {
            "tags": []
          },
          "execution_count": 23
        },
        {
          "output_type": "display_data",
          "data": {
            "image/png": "[encoded data removed]",
            "text/plain": [
              "<Figure size 432x288 with 1 Axes>"
            ]
          },
          "metadata": {
            "tags": [],
            "needs_background": "light"
          }
        }
      ]
    },
    {
      "cell_type": "code",
      "metadata": {
        "colab": {
          "base_uri": "https://localhost:8080/",
          "height": 296
        },
        "id": "06MKL5atbqGb",
        "outputId": "78ee8871-b45c-4faa-a361-7b0a6ead007f"
      },
      "source": [
        "fig_dims = (6, 4)\r\n",
        "fig, ax = plt.subplots(figsize=fig_dims)\r\n",
        "sns.barplot(x = \"col2\", ax=ax, data=train_feed)"
      ],
      "execution_count": 23,
      "outputs": [
        {
          "output_type": "execute_result",
          "data": {
            "text/plain": [
              "<matplotlib.axes._subplots.AxesSubplot at 0x7ff5368fa750>"
            ]
          },
          "metadata": {
            "tags": []
          },
          "execution_count": 23
        },
        {
          "output_type": "display_data",
          "data": {
            "image/png": "[encoded data removed]",
            "text/plain": [
              "<Figure size 432x288 with 1 Axes>"
            ]
          },
          "metadata": {
            "tags": [],
            "needs_background": "light"
          }
        }
      ]
    },
    {
      "cell_type": "code",
      "metadata": {
        "id": "eBCSaeaif_jx"
      },
      "source": [
        "import re\r\n",
        "import nltk\r\n",
        "from nltk.tokenize import word_tokenize\r\n",
        "from nltk.corpus import stopwords\r\n",
        "from nltk.stem.porter import PorterStemmer\r\n",
        "from nltk.stem import WordNetLemmatizer"
      ],
      "execution_count": 36,
      "outputs": []
    },
    {
      "cell_type": "code",
      "metadata": {
        "id": "AjbEPQDDgQ48"
      },
      "source": [
        "clean_train_lst = []\r\n",
        "train_len_lst = []"
      ],
      "execution_count": 38,
      "outputs": []
    },
    {
      "cell_type": "code",
      "metadata": {
        "id": "K5My3JTqgZTK"
      },
      "source": [
        "def preprocess(raw_train, flag):\r\n",
        "    # Removing special characters and digits\r\n",
        "    letters_only = re.sub(\"[^0-9]\", \" \",raw_train)\r\n",
        "    \r\n",
        "    # change sentence to lower case\r\n",
        "    letters_only = letters_only.lower()\r\n",
        "\r\n",
        "    # tokenize into words\r\n",
        "    words = letters_only.split()\r\n",
        "    \r\n",
        "        \r\n",
        "    #Stemming/Lemmatization\r\n",
        "    if(flag == 'stem'):\r\n",
        "        words = [stemmer.stem(word) for word in words]\r\n",
        "    else:\r\n",
        "        words = [lemmatizer.lemmatize(word) for word in words]\r\n",
        "    \r\n",
        "    clean_tweet_lst.append(\" \".join(words))\r\n",
        "    "
      ],
      "execution_count": 39,
      "outputs": []
    },
    {
      "cell_type": "code",
      "metadata": {
        "colab": {
          "base_uri": "https://localhost:8080/"
        },
        "id": "6BASbgWAe2-K",
        "outputId": "25c4496d-6d45-4d65-82a3-5cd2780f8295"
      },
      "source": [
        "from tqdm import tqdm, tqdm_notebook\r\n",
        "\r\n",
        "tqdm.pandas()"
      ],
      "execution_count": 31,
      "outputs": [
        {
          "output_type": "stream",
          "text": [
            "/usr/local/lib/python3.7/dist-packages/tqdm/std.py:658: FutureWarning: The Panel class is removed from pandas. Accessing it from the top-level namespace will also be removed in the next version\n",
            "  from pandas import Panel\n"
          ],
          "name": "stderr"
        }
      ]
    },
    {
      "cell_type": "code",
      "metadata": {
        "colab": {
          "base_uri": "https://localhost:8080/",
          "height": 234
        },
        "id": "RLgzcjTEeIUv",
        "outputId": "38b18be1-628c-4cb4-cee7-c92732de86c7"
      },
      "source": [
        "from sklearn.linear_model import LogisticRegression\r\n",
        "from sklearn.tree import DecisionTreeClassifier\r\n",
        "from sklearn.ensemble import RandomForestClassifier\r\n",
        "from sklearn import datasets\r\n",
        "\r\n",
        "from sklearn.metrics import accuracy_score\r\n",
        "from sklearn.model_selection import train_test_split\r\n",
        "from sklearn import svm\r\n",
        "from sklearn import metrics\r\n",
        "\r\n",
        "train_feed = dataset.load_files()\r\n",
        "\r\n",
        "X_train, X_test, Y_train, Y_test = train_test_split(train_feed.data, train_feed.target, test_size=0.2, randon_state=1000)"
      ],
      "execution_count": 57,
      "outputs": [
        {
          "output_type": "error",
          "ename": "NameError",
          "evalue": "ignored",
          "traceback": [
            "\u001b[0;31m---------------------------------------------------------------------------\u001b[0m",
            "\u001b[0;31mNameError\u001b[0m                                 Traceback (most recent call last)",
            "\u001b[0;32m<ipython-input-57-b9abb6b235ed>\u001b[0m in \u001b[0;36m<module>\u001b[0;34m()\u001b[0m\n\u001b[1;32m      9\u001b[0m \u001b[0;32mfrom\u001b[0m \u001b[0msklearn\u001b[0m \u001b[0;32mimport\u001b[0m \u001b[0mmetrics\u001b[0m\u001b[0;34m\u001b[0m\u001b[0;34m\u001b[0m\u001b[0m\n\u001b[1;32m     10\u001b[0m \u001b[0;34m\u001b[0m\u001b[0m\n\u001b[0;32m---> 11\u001b[0;31m \u001b[0mtrain_feed\u001b[0m \u001b[0;34m=\u001b[0m \u001b[0mdataset\u001b[0m\u001b[0;34m.\u001b[0m\u001b[0mload_files\u001b[0m\u001b[0;34m(\u001b[0m\u001b[0;34m)\u001b[0m\u001b[0;34m\u001b[0m\u001b[0;34m\u001b[0m\u001b[0m\n\u001b[0m\u001b[1;32m     12\u001b[0m \u001b[0;34m\u001b[0m\u001b[0m\n\u001b[1;32m     13\u001b[0m \u001b[0mX_train\u001b[0m\u001b[0;34m,\u001b[0m \u001b[0mX_test\u001b[0m\u001b[0;34m,\u001b[0m \u001b[0mY_train\u001b[0m\u001b[0;34m,\u001b[0m \u001b[0mY_test\u001b[0m \u001b[0;34m=\u001b[0m \u001b[0mtrain_test_split\u001b[0m\u001b[0;34m(\u001b[0m\u001b[0mtrain_feed\u001b[0m\u001b[0;34m.\u001b[0m\u001b[0mdata\u001b[0m\u001b[0;34m,\u001b[0m \u001b[0mtrain_feed\u001b[0m\u001b[0;34m.\u001b[0m\u001b[0mtarget\u001b[0m\u001b[0;34m,\u001b[0m \u001b[0mtest_size\u001b[0m\u001b[0;34m=\u001b[0m\u001b[0;36m0.2\u001b[0m\u001b[0;34m,\u001b[0m \u001b[0mrandon_state\u001b[0m\u001b[0;34m=\u001b[0m\u001b[0;36m1000\u001b[0m\u001b[0;34m)\u001b[0m\u001b[0;34m\u001b[0m\u001b[0;34m\u001b[0m\u001b[0m\n",
            "\u001b[0;31mNameError\u001b[0m: name 'dataset' is not defined"
          ]
        }
      ]
    },
    {
      "cell_type": "code",
      "metadata": {
        "id": "LGzJK8uat8Hq"
      },
      "source": [
        "data=svm.SVC(kernal=\"linear\")\r\n",
        "data.fit(x,y)\r\n"
      ],
      "execution_count": null,
      "outputs": []
    },
    {
      "cell_type": "code",
      "metadata": {
        "id": "Vxkzgj8CW88u"
      },
      "source": [
        "Classifiers = [\r\n",
        "    LogisticRegression(),\r\n",
        "    DecisionTreeClassifier(),\r\n",
        "    RandomForestClassifier(n_estimators=200)\r\n",
        "]"
      ],
      "execution_count": 26,
      "outputs": []
    },
    {
      "cell_type": "code",
      "metadata": {
        "id": "TfDxs9x3tL_p"
      },
      "source": [
        ""
      ],
      "execution_count": null,
      "outputs": []
    },
    {
      "cell_type": "markdown",
      "metadata": {
        "id": "4-K5Xr5G-mGY"
      },
      "source": [
        "**Difference between Logixtic Regression, SVM Linear and SVM RBF Kernal**"
      ]
    },
    {
      "cell_type": "markdown",
      "metadata": {
        "id": "SbpVT7AOlnt8"
      },
      "source": [
        "Logistic Regression Algorithm vs SVM with Linear Kernel vs SVM with RBF Kernel\r\n",
        "\r\n",
        "SVMs try to generalize well when building a model using the given set of data.\r\n",
        "With SVMs, optimization of the generalization performance is achieved by controlling two terms i.e. by \"minimizing the classification error\" on the training set together with \"minimizing the complexity of the model\".\r\n",
        "\r\n",
        "Disadvantage of logistic regression is that the technique is not able to identify possible nonlinear structures in a set of data. \r\n",
        "\r\n",
        "When nonlinear relationships exist, a nonlinear decision boundary may result in a better performance overall. Unlike logistic\r\n",
        "regression, SVMs are designed to generate more complex decision boundaries. An LS-SVM with a simple linear kernel function corresponds to a linear decision boundary. \r\n",
        "\r\n",
        "When training LS-SVM models with a linear and an RBF kernel, it is necessary to optimize the regularizationparameter γ. \r\n",
        "Using an RBF kernel also requires tuning of the kernel parameter σ. These parameter(s) can be tuned in LS-SVMlab with the ‘tunelssvm’ function using a ‘linesearch’ approach for the LS-SVM with a linear kernel (tuning of γ) and a ‘gridsearch’ approach for the LS-SVM with an RBF kernel (tuning of σ and γ) when optimizing the ‘leave-one-out cross-validation’ performance on the training set. These parameter settings\r\n",
        "can be used subsequently when training the definitive model with the ‘trainlssvm’ function. \r\n",
        "\r\n",
        "Overall, SVMs have means to prevent the model from being sensitive to outliers in the data, resulting in a model that is capable of making good predictions for prospective analyses.  \r\n",
        "Moreover, SVMs are able to cope with nonlinearity in the data by using nonlinear kernel functions instead of a simple linear kernel.\r\n",
        "\r\n",
        "Hence SVMs have more advantages and accuracy over Logistic Regression."
      ]
    }
  ]
}